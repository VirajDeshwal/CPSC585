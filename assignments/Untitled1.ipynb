{
 "cells": [
  {
   "cell_type": "code",
   "execution_count": 19,
   "metadata": {},
   "outputs": [
    {
     "data": {
      "text/plain": [
       "'\\n```\\n dQ/dX\\nX -w1--      \\\\    df/dQ\\n       (+)--w4- dQ/dY/   Q   Y --w2-/                         (*)--- f(x, y, z)\\n               /   df/df\\ndf/dZ        /\\nZ ----w3-------/\\n\\n```\\n\\n#### By Chain rule\\n```\\ngiven Q = w1X + w2Y\\n\\ndf/dQ = df/df * df/dQ\\ndf/dX = df/dQ * dQ/dX\\ndf/dY = df/dQ * dQ/dY\\ndf/dZ = df/df * df/dZ\\n\\n\\n\\nby manually calculating the partial derivatives...\\n\\ndf/dQ = Z\\ndf/dX = Z * 1\\ndf/dY = Z * 1\\ndf/dZ = X + Y\\n```\\n'"
      ]
     },
     "execution_count": 19,
     "metadata": {},
     "output_type": "execute_result"
    }
   ],
   "source": [
    "# Backpropogation using real-valued computational graph \n",
    "'''\n",
    "```\n",
    " dQ/dX\n",
    "X -w1--\\\n",
    "      \\    df/dQ\n",
    "       (+)--w4-\\\n",
    " dQ/dY/   Q   \\\n",
    "Y --w2-/         \\\n",
    "                (*)--- f(x, y, z)\n",
    "               /   df/df\n",
    "df/dZ        /\n",
    "Z ----w3-------/\n",
    "\n",
    "```\n",
    "\n",
    "#### By Chain rule\n",
    "```\n",
    "given Q = w1X + w2Y\n",
    "\n",
    "df/dQ = df/df * df/dQ\n",
    "df/dX = df/dQ * dQ/dX\n",
    "df/dY = df/dQ * dQ/dY\n",
    "df/dZ = df/df * df/dZ\n",
    "\n",
    "\n",
    "\n",
    "by manually calculating the partial derivatives...\n",
    "\n",
    "df/dQ = Z\n",
    "df/dX = Z * 1\n",
    "df/dY = Z * 1\n",
    "df/dZ = X + Y\n",
    "```\n",
    "'''"
   ]
  },
  {
   "cell_type": "markdown",
   "metadata": {},
   "source": [
    "# Let's Introduce some weights to the nodes"
   ]
  },
  {
   "cell_type": "code",
   "execution_count": 18,
   "metadata": {},
   "outputs": [
    {
     "data": {
      "text/plain": [
       "'\\nDefining the weights for each node in the computational graph.\\nWeights for \\nX = w1\\nY = w2\\nZ = w3\\nQ = W4\\n'"
      ]
     },
     "execution_count": 18,
     "metadata": {},
     "output_type": "execute_result"
    }
   ],
   "source": [
    "'''\n",
    "Defining the weights for each node in the computational graph.\n",
    "Weights for \n",
    "X = w1\n",
    "Y = w2\n",
    "Z = w3\n",
    "Q = W4\n",
    "'''"
   ]
  },
  {
   "cell_type": "code",
   "execution_count": 1,
   "metadata": {
    "collapsed": true
   },
   "outputs": [],
   "source": [
    "def forward(x, y, z):\n",
    "    return z*(x + y)"
   ]
  },
  {
   "cell_type": "code",
   "execution_count": null,
   "metadata": {
    "collapsed": true
   },
   "outputs": [],
   "source": []
  },
  {
   "cell_type": "code",
   "execution_count": 2,
   "metadata": {
    "collapsed": true
   },
   "outputs": [],
   "source": [
    "def backward(x, y, z):\n",
    "    dfdx = z\n",
    "    dfdy = z\n",
    "    dfdz = x + y\n",
    "    return dfdx, dfdy, dfdz"
   ]
  },
  {
   "cell_type": "code",
   "execution_count": 3,
   "metadata": {},
   "outputs": [
    {
     "name": "stdout",
     "output_type": "stream",
     "text": [
      "Gradients on X: 9, Y: 9 and Z: 7\n"
     ]
    }
   ],
   "source": [
    "x = 2\n",
    "y = 5\n",
    "z = 9\n",
    "dx, dy, dz = backward(x, y, z)\n",
    "print (\"Gradients on X: {}, Y: {} and Z: {}\".format(dx, dy, dz))"
   ]
  },
  {
   "cell_type": "code",
   "execution_count": 4,
   "metadata": {
    "collapsed": true
   },
   "outputs": [],
   "source": [
    "def backward_w_loss(V, x, y, z):\n",
    "    dldx = -2 * z * (V - (x + y) * z)\n",
    "    dldy = -2 * z * (V - (x + y) * z)\n",
    "    dldz = -2 * (x + y) * (V - (x + y) * z)\n",
    "    return dldx, dldy, dldz"
   ]
  },
  {
   "cell_type": "code",
   "execution_count": 5,
   "metadata": {},
   "outputs": [
    {
     "name": "stdout",
     "output_type": "stream",
     "text": [
      "Final Values of x: 13.104209703309026, y: 2.2033097033090323 and z: 9.407141429965654\n",
      "Evaluation of (x + y) * z = 144.0\n"
     ]
    }
   ],
   "source": [
    "x = 12.3791\n",
    "y = 1.4782\n",
    "z = 8.192\n",
    "alpha = 0.001\n",
    "final_value = 144\n",
    "n = 1000\n",
    "for i in range(n):\n",
    "    dx, dy, dz = backward_w_loss(final_value, x, y, z)\n",
    "    x = x - alpha * dx\n",
    "    y = y - alpha * dy\n",
    "    z = z - alpha * dz\n",
    "print (\"Final Values of x: {}, y: {} and z: {}\".format(x, y, z))\n",
    "# forward is only used here below\n",
    "print (\"Evaluation of (x + y) * z = {}\".format(forward(x, y, z)))"
   ]
  },
  {
   "cell_type": "code",
   "execution_count": null,
   "metadata": {
    "collapsed": true
   },
   "outputs": [],
   "source": []
  }
 ],
 "metadata": {
  "kernelspec": {
   "display_name": "Python 3",
   "language": "python",
   "name": "python3"
  },
  "language_info": {
   "codemirror_mode": {
    "name": "ipython",
    "version": 3
   },
   "file_extension": ".py",
   "mimetype": "text/x-python",
   "name": "python",
   "nbconvert_exporter": "python",
   "pygments_lexer": "ipython3",
   "version": "3.6.2"
  }
 },
 "nbformat": 4,
 "nbformat_minor": 2
}
